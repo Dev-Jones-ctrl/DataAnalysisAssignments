{
 "cells": [
  {
   "cell_type": "markdown",
   "metadata": {},
   "source": [
    "___\n",
    "\n",
    "# <span style=\"color:black\">The GM's blueprint: Quantifying the value of positional units to maximize win probability in the NFL</span>\n",
    "\n",
    "\n",
    "### Overview:\n",
    "\n",
    "* **Name**:  <span style=\"color:black\">Baier, Jonas</span>\n",
    "* **Student number**:  <span style=\"color:black\">0490373562</span>\n",
    "\n",
    "<br>"
   ]
  },
  {
   "cell_type": "markdown",
   "metadata": {},
   "source": [
    "### Purpose:\n",
    "\n",
    "* <span style=\"color:black\">The primary objective of this multivariate logistic regression analysis is to rigorously determine the marginal contribution of a comprehensive set of offensive, defensive, and special teams efficiency metrics to the probability of winning an NFL game. The analysis will conclude with a data-driven prioritization strategy for a General Manager, detailing which units or metrics (e.g., Passing Efficiency vs. Red Zone Defense) show the highest correlation with victory and therefore deserve the largest cap allocation and draft capital, and which can be safely deprioritized.</span>\n",
    "* <span style=\"color:black\">The key **dependent variable (DV)** is the game result (Binary: 1 = Home Team Win, 0 = Home Team Loss/Tie), aggregated per game.</span>\n",
    "* <span style=\"color:black\">The key **independent variable(s) (IVs)** are game-level differentials (Home Team Value - Away Team Value) aggregated from play-by-play data. These variables cover the spectrum of strategic decision-making:</span>\n",
    "\n",
    "* **| Team Component | Advanced Metric (Independent Variable) | Description |**\n",
    "\n",
    "1. | **Passing Offense** | **Differential Passing EPA** | Difference in expected points added per passing play. (Measures QB play, WR separation, & Pass Blocking). |\n",
    "  \n",
    "2. | **Running Offense** | **Differential Success Rate (Rush)** | Difference in rushing plays that achieve positive EPA or keep the offense on schedule (40% of required yardage on 1st down, etc.). |\n",
    "  \n",
    "3. | **Situational Offense** | **Differential Red Zone Score %** | Difference in points scored inside the opponent's 20-yard line (a key coaching metric). |\n",
    "\n",
    "4. | **Defensive Pressure** | **Differential Adjusted Sack Rate** | Difference in sacks divided by pass attempts, adjusted for play-action (measures *Pass Rush* effectiveness). |\n",
    "  \n",
    "5. | **Defensive Coverage** | **Differential Defensive EPA against Pass** | Difference in EPA allowed by the defense on passing plays (Measures *Secondary* and *Linebacker Coverage*). |\n",
    "  \n",
    "6. | **Turnover/Ball Security**| **Differential Turnover Margin** | Difference in (Takeaways - Giveaways), a classic high-impact metric. |\n",
    "\n",
    "7. | **Situational Defense** | **Differential 3rd Down Conversion %** | Difference in opponent's 3rd Down Success Rate (measures situational defense/coaching). |\n",
    " \n",
    "8. | **Special Teams** | **Differential Field Goal EPA** | Difference in expected points added from field goal attempts (Measures *Kicking* reliability). |\n",
    "\n",
    "9. | **Game Control** | **Differential Time of Possession (TOP)** | Difference in minutes of ball control (a proxy for dictating the game's pace). |\n",
    "\n",
    "10. | **Discipline** | **Differential Penalty Yards** | Difference in total penalty yards assessed (measures overall team discipline). |\n",
    "\n",
    "* <span style=\"color:black\">The raw Play-by-Play data contains over 5 Million cases (individual plays from 2009-2024). This will be aggregated into approximately 2,500 cases representing individual games.\n",
    "* The analysis will utilize one dependent variable (DV) and ten comprehensive independent variables (IVs).\n",
    "* The raw dataset has over 300 columns, which are essential for engineering these situation-specific and advanced efficiency metrics.</span>\n"
   ]
  },
  {
   "cell_type": "markdown",
   "metadata": {},
   "source": [
    "### Dataset source:\n",
    "\n",
    "This [dataset](https://www.kaggle.com/datasets/keonim/nfl-game-scores-dataset-2017-2023) contains detailed information from every game listed on the [NFL's official website](https://www.nfl.com/.https://www.kaggle.com/datasets/keonim/nfl-game-scores-dataset-2017-2023-)</span>\n",
    "The dataset was created with the hope of being a valuable resource for sports analysts and data scientists interested in American football statistics. The dataset was last updated on 10/28/2025.\n",
    "\n",
    "<br>\n",
    "<br>\n",
    "<br>\n",
    "<br>"
   ]
  }
 ],
 "metadata": {
  "kernelspec": {
   "display_name": "Python [conda env:base] *",
   "language": "python",
   "name": "conda-base-py"
  },
  "language_info": {
   "codemirror_mode": {
    "name": "ipython",
    "version": 3
   },
   "file_extension": ".py",
   "mimetype": "text/x-python",
   "name": "python",
   "nbconvert_exporter": "python",
   "pygments_lexer": "ipython3",
   "version": "3.13.5"
  }
 },
 "nbformat": 4,
 "nbformat_minor": 4
}
